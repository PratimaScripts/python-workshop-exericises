{
 "cells": [
  {
   "cell_type": "markdown",
   "metadata": {},
   "source": [
    "## Python Workshop 2 Exercises"
   ]
  },
  {
   "cell_type": "markdown",
   "metadata": {},
   "source": [
    "<div class=\"alert alert-block alert-info\">\n",
    "In this workshop you will practice packaging your code into functions, passing values in arguments and returning results</div>"
   ]
  },
  {
   "cell_type": "markdown",
   "metadata": {},
   "source": [
    "<div class=\"alert alert-block alert-danger\">\n",
    "Say you have the following question to answer...<br><font color=\"red\"><b>Example</b></font> The Python <i>math</i> module contains trig functions but they only work in radians.  Write a sine function that converts from Radians to Degrees.</div>"
   ]
  },
  {
   "cell_type": "markdown",
   "metadata": {},
   "source": [
    "<code>## Sine (in degrees) in a Python script\n",
    "from math import pi, sin                   ## -- these are the components we need from the math libray\n",
    "                                   \n",
    "x = float(input(\"Please input a number \")) ## -- input - not asked for but allows you to test the code \n",
    "answer = sin(pi*x/180)                     ## -- do the calculation\n",
    "print(\"result = {}\".format(answer))        ## -- output to check your solution</code>"
   ]
  },
  {
   "cell_type": "markdown",
   "metadata": {},
   "source": [
    "<div class=\"alert alert-block alert-danger\">The problem with this solution is the question asked for a <b>function</b> and the script above may calculate a value, but the solution does not address the requirement in the question.  So lets try again...</div>"
   ]
  },
  {
   "cell_type": "markdown",
   "metadata": {},
   "source": [
    "<code>from math import pi, sin\n",
    "    \n",
    "def deg_sin():                           ## -- a naive solution\n",
    "    x = float(input(\"Please input a number \"))\n",
    "    answer = sin(pi*x/180) \n",
    "    print(\"result = {}\".format(answer))\n",
    "\n",
    "deg_sin()                                ## -- call the function</code>"
   ]
  },
  {
   "cell_type": "markdown",
   "metadata": {},
   "source": [
    "<div class=\"alert alert-block alert-warning\">This is a poorly designed solution as a well designed function should do one thing and only one thing well <b><i>(actually a function might do multiple things... but it shouldn't do everything)</i></b> this is a poor function it has, input and output and calculation... it's doing too much.<br>So lets improve things by to moving the input outside of the function and then pass the value we want calculated into the function</div>"
   ]
  },
  {
   "cell_type": "markdown",
   "metadata": {},
   "source": [
    "<code>from math import pi, sin\n",
    "    \n",
    "def deg_sin(x):    \n",
    "    answer = sin(pi*x/180) \n",
    "    print(\"result = {}\".format(answer))\n",
    "\n",
    "inp = float(input(\"Please input a number \"))\n",
    "deg_sin(inp)</code>"
   ]
  },
  {
   "cell_type": "markdown",
   "metadata": {},
   "source": [
    "<div class=\"alert alert-block alert-warning\">Ok this is better but still limiting because most of the time the result of a functions calculation is still needed for further calculation, the functions only job is to perform the calculation, i.e. it is not upto the function to decide what to do with the result all it should do is <b>return</b> the result, leaving the decision whether to display the result up to the routine that called it.</div>"
   ]
  },
  {
   "cell_type": "markdown",
   "metadata": {},
   "source": [
    "<code>from math import pi, sin\n",
    "    \n",
    "def deg_sin(x):    \n",
    "    return sin(pi*x/180)\n",
    "\n",
    "inp = float(input(\"Please input a number \"))\n",
    "out = deg_sin(inp)\n",
    "print(\"result = {}\".format(out))</code>"
   ]
  },
  {
   "cell_type": "markdown",
   "metadata": {},
   "source": [
    "<div class=\"alert alert-block alert-success\">So this is a much better answer to the question because we have function that calculates the answer but provides a neat solution as it does not mix it with the code needed to test and demonstrate it working.<br>Of course avoid the faff of inp and out variables in the calling routine you could write it as...</div>"
   ]
  },
  {
   "cell_type": "markdown",
   "metadata": {},
   "source": [
    "<code>from math import pi, sin\n",
    "    \n",
    "def deg_sin(x):    \n",
    "    return sin(pi*x/180)\n",
    "  \n",
    "print(\"result = {}\".format(deg_sin(float(input(\"Please input a number \")))))</code>"
   ]
  },
  {
   "cell_type": "markdown",
   "metadata": {},
   "source": [
    "<div class=\"alert alert-block alert-success\">To maintain a single entry point into the program you could wrap the calling routine in a separate funtion.  But note the calculation is still clear and distinct and in its own function.</div>"
   ]
  },
  {
   "cell_type": "markdown",
   "metadata": {},
   "source": [
    "<code>from math import pi, sin\n",
    "    \n",
    "def deg_sin(x):    \n",
    "    return sin(pi*x/180)\n",
    "\n",
    "def main():\n",
    "    inp = float(input(\"Please input a number \"))\n",
    "    print(\"result = {}\".format(deg_sin(inp)))\n",
    "\n",
    "main()</code>"
   ]
  },
  {
   "cell_type": "markdown",
   "metadata": {},
   "source": [
    "<div class=\"alert alert-block alert-danger\">\n",
    "Now try to write the Python code to answer the following questions in the cells below \n",
    "</div>"
   ]
  },
  {
   "cell_type": "markdown",
   "metadata": {},
   "source": [
    "#### <font color=\"red\"><b>1.</b></font> Write a function called <i>rectangle</i> that takes two integers m and n as arguments and prints out an m × n box consisting of asterisks. Shown below is the output of <i>rectangle(2,4)</i>"
   ]
  },
  {
   "cell_type": "markdown",
   "metadata": {},
   "source": [
    "`****`<br>\n",
    "`****`"
   ]
  },
  {
   "cell_type": "code",
   "execution_count": 6,
   "metadata": {},
   "outputs": [
    {
     "name": "stdout",
     "output_type": "stream",
     "text": [
      "****\n",
      "****\n"
     ]
    }
   ],
   "source": [
    "def rectangle (m, n ): # m = width, n = height\n",
    "    for i in range(m): # i = width\n",
    "        print('*' * n) # n = height\n",
    "rectangle(2,4) # 2 = width, 4 = height\n"
   ]
  },
  {
   "cell_type": "markdown",
   "metadata": {},
   "source": [
    "#### <font color=\"red\"><b>2.</b></font> Write a function returnSquare(n) that <font color=\"red\"><i>returns</i></font> a string, such that when the string is printed it displays a square whose side has n stars.  For example, for n = 5, the output should be: "
   ]
  },
  {
   "cell_type": "markdown",
   "metadata": {},
   "source": [
    "`*****`<br>\n",
    "`*   *`<br>\n",
    "`*   *`<br>\n",
    "`*   *`<br>\n",
    "`*****`<br>"
   ]
  },
  {
   "cell_type": "code",
   "execution_count": 26,
   "metadata": {},
   "outputs": [
    {
     "name": "stdout",
     "output_type": "stream",
     "text": [
      "*****\n",
      "*   *\n",
      "*   *\n",
      "*   *\n",
      "*   *\n"
     ]
    }
   ],
   "source": [
    "def returnSquare(n): # n = side length\n",
    "    for i in range(1, n+1): # i = row number\n",
    "        for j in range(1, n+1): # j = column number\n",
    "            if(i==1 or j==1 or j==n): # if row or column is 1 or n, print *\n",
    "                print('*', end='') # end = '' means don't print newline\n",
    "            else:\n",
    "                print(' ', end='') # if not, print space\n",
    "        print()\n",
    "returnSquare(5) # 5 = side length"
   ]
  },
  {
   "cell_type": "markdown",
   "metadata": {},
   "source": [
    "#### <font color=\"red\"><b>3.</b></font> Write a function <i>squaredSum</i> that returns the sum of the squares of an array/list of integers such that <font color=\"blue\"><i>squaredSum([2,3,4])</i></font> gives <font color=\"blue\">29</font>. Write your solution in pure Python to show the logic in your solution, do not use any library functions. <i>There is no need to veryfy the array data.</i>  "
   ]
  },
  {
   "cell_type": "code",
   "execution_count": 31,
   "metadata": {},
   "outputs": [
    {
     "data": {
      "text/plain": [
       "17"
      ]
     },
     "execution_count": 31,
     "metadata": {},
     "output_type": "execute_result"
    }
   ],
   "source": [
    "def squaredSum(n): # n = number of integers\n",
    "    sum = 0\n",
    "    for i in n: # i = number\n",
    "        sum += i**2 # sum = sum + i^2\n",
    "    return sum\n",
    "squaredSum([2,3,4]) # [2,3,4] = number of integers passed while calling function squaredSum"
   ]
  },
  {
   "cell_type": "markdown",
   "metadata": {},
   "source": [
    "#### <font color=\"red\"><b>4.</b></font> Write a function called <i>sumDigits</i> that is given an integer <i>num</i> and returns the sum of the digits of <i>num</i>. Eg. <font color=\"blue\"><i>sumDigits(6)</i></font> gives <font color=\"blue\">21.</font> Do not use any library functions (if there is one). "
   ]
  },
  {
   "cell_type": "code",
   "execution_count": 13,
   "metadata": {},
   "outputs": [
    {
     "data": {
      "text/plain": [
       "21"
      ]
     },
     "execution_count": 13,
     "metadata": {},
     "output_type": "execute_result"
    }
   ],
   "source": [
    "def sumDigits(num): # num is a integer\n",
    "    result = 0 # initialize result\n",
    "    for i in range(num+1): # loop through each digit\n",
    "        result += i # add the digit to the result\n",
    "    return result # return the result\n",
    "\n",
    "sumDigits(6) # 6 = num"
   ]
  },
  {
   "cell_type": "markdown",
   "metadata": {},
   "source": [
    "#### <font color=\"red\"><b>5.</b></font> Write a function <i>smallestDivisor</i> that takes an integer   and returns its smallest divisor that is greater than 1.  For example: smallestDivisor(15) should return 3; smallestDivisor(7) should return 7.   <font color=\"blue\"><i>Hint: d is not a divisor of n if and only if n % d != 0.</i></font>"
   ]
  },
  {
   "cell_type": "code",
   "execution_count": 12,
   "metadata": {},
   "outputs": [
    {
     "data": {
      "text/plain": [
       "3"
      ]
     },
     "execution_count": 12,
     "metadata": {},
     "output_type": "execute_result"
    }
   ],
   "source": [
    "def smallestDivisor(num): ## passing the num integer\n",
    "    for i in range(2,num+1): ## i is the divisor\n",
    "        if num % i == 0: ## if num is divisible by i\n",
    "            return i ## return i\n",
    "smallestDivisor(15)\n",
    "# smallestDivisor(15)"
   ]
  },
  {
   "cell_type": "markdown",
   "metadata": {},
   "source": [
    "#### <font color=\"red\"><b>6.</b></font> A positive integer is called a perfect number if it is equal to the sum of all of its divisors, including 1 but excluding the number itself.  For example, 6 = 1 + 2 + 3.  Write a function <i>sumOfDivisors</i> that takes a positive integer n and returns the sum of all its divisors (excluding n).   <i>Hint:</i>\n",
    "<code>\n",
    "    if n % d == 0:\n",
    "        sumDivs += d\n",
    "</code>"
   ]
  },
  {
   "cell_type": "code",
   "execution_count": 19,
   "metadata": {},
   "outputs": [
    {
     "data": {
      "text/plain": [
       "6"
      ]
     },
     "execution_count": 19,
     "metadata": {},
     "output_type": "execute_result"
    }
   ],
   "source": [
    "def sumOfDivisor(n): # n is the number\n",
    "    result = 0 # initialize result\n",
    "    for i in range(1,n): # loop through each number\n",
    "        if n % i == 0: # if n is divisible by i\n",
    "            result+= i # add i to result\n",
    "    return result # return result\n",
    "sumOfDivisor(6) # 10 = n"
   ]
  },
  {
   "cell_type": "markdown",
   "metadata": {},
   "source": [
    "#### <font color=\"red\"><b>7.</b></font> The smallest perfect number is 6.  Write a program that finds and prints out the next perfect number.  <i>Hint: You should be able your sumOfDiviors function from your solution to question 6</i>"
   ]
  },
  {
   "cell_type": "code",
   "execution_count": 23,
   "metadata": {},
   "outputs": [
    {
     "name": "stdout",
     "output_type": "stream",
     "text": [
      "The perfect number is: 28\n"
     ]
    }
   ],
   "source": [
    "def perfectNumber(): # perfect number is a number that is equal to the sum of its divisors\n",
    "    for i in range(7,1000): # loop through each number in the range of 7 to 1000\n",
    "        if sumOfDivisor(i) == i: # if the sum of its divisors is equal to the number\n",
    "            return i   # return the number\n",
    "print(\"The perfect number is: {}\".format(perfectNumber())) # print the perfect number"
   ]
  },
  {
   "cell_type": "markdown",
   "metadata": {},
   "source": [
    "### Downloading your workbook"
   ]
  },
  {
   "cell_type": "markdown",
   "metadata": {},
   "source": [
    "Please note even if you are Jupyter on your computer (ie. not on a network) the Jupyter notebook runs as a server, so you are editing and running a file that is not easily accessed on your filing system. So to obtain your workbook (to use on a different computer or upload as an assignment, etc.) it must be downloaded to your file system. To do this...  "
   ]
  },
  {
   "cell_type": "markdown",
   "metadata": {},
   "source": [
    "<div class=\"alert alert-block alert-info\">Goto the <b>\"File\"</b> menu and select the <b>\"Download as\"</b> item. You can then select <b>\"notebook (ipynb)\"</b> to download.</div>"
   ]
  }
 ],
 "metadata": {
  "kernelspec": {
   "display_name": "Python 3",
   "language": "python",
   "name": "python3"
  },
  "language_info": {
   "codemirror_mode": {
    "name": "ipython",
    "version": 3
   },
   "file_extension": ".py",
   "mimetype": "text/x-python",
   "name": "python",
   "nbconvert_exporter": "python",
   "pygments_lexer": "ipython3",
   "version": "3.9.7"
  }
 },
 "nbformat": 4,
 "nbformat_minor": 2
}

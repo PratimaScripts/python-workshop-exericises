{
 "cells": [
  {
   "cell_type": "code",
   "execution_count": null,
   "metadata": {},
   "outputs": [],
   "source": [
    "## Python Workshop 1 Exercises"
   ]
  },
  {
   "cell_type": "markdown",
   "metadata": {},
   "source": [
    "<div class=\"alert alert-block alert-info\">\n",
    "<font color=\"white\">Suppose we don’t know the formula for the sum and want to use a “brute force” approach.  We can calculate the sum <i>1 + 2 + ... + n</i>  using a loop:</font> </div>"
   ]
  },
  {
   "cell_type": "markdown",
   "metadata": {},
   "source": [
    "<code>sum1n = 0\n",
    "i = 1\n",
    "while i <= n:\n",
    "    sum1n += i  # same as sum1n = sum1n + i\n",
    "    i += 1 </code>"
   ]
  },
  {
   "cell_type": "markdown",
   "metadata": {},
   "source": [
    "<div class=\"alert alert-block alert-info\"><font color=\"white\">This loop can also be nested within another loop to calculate a series of numbers:</font></div>"
   ]
  },
  {
   "cell_type": "markdown",
   "metadata": {},
   "source": [
    "<code>## Sums1toN program\n",
    "nMax = 10\n",
    "n = 1\n",
    "while n <= nMax:\n",
    "    sum1n = 0\n",
    "    i = 1\n",
    "    while i <= n:\n",
    "        sum1n += i\n",
    "        i += 1\n",
    "    print('{0:3d} {1:6d}'.format(n, sum1n))\n",
    "    n += 1 </code>"
   ]
  },
  {
   "cell_type": "markdown",
   "metadata": {},
   "source": [
    "<div class=\"alert alert-block alert-info\"><font color=\"white\">Type in the little program above into the cell below.  To run it select the cell and then press the <b>run-button</b> from the button bar above. Test the program and ensure it runs correctly.</font></div>"
   ]
  },
  {
   "cell_type": "code",
   "execution_count": 1,
   "metadata": {},
   "outputs": [
    {
     "name": "stdout",
     "output_type": "stream",
     "text": [
      "  1      1\n",
      "  2      3\n",
      "  3      6\n",
      "  4     10\n",
      "  5     15\n",
      "  6     21\n",
      "  7     28\n",
      "  8     36\n",
      "  9     45\n",
      " 10     55\n"
     ]
    }
   ],
   "source": [
    "nMax = 10                  #reset value\n",
    "n = 1                      #reset value\n",
    "while n <= nMax:           #runs loop until the n is higher than nMax\n",
    "    sum1n = 0              #reset value\n",
    "    i = 1                  #reset value\n",
    "    while i <= n:          #runs loop until i is greater than n\n",
    "        sum1n += i         #increases the value of sum1n by i\n",
    "        i += 1             # increases the value of i by 1\n",
    "    print('{0:3d} {1:6d}'.format(n, sum1n)) #prints with format method\n",
    "    n += 1                 #increases the value of n by 1"
   ]
  },
  {
   "cell_type": "markdown",
   "metadata": {},
   "source": [
    "<div class=\"alert alert-block alert-danger\">\n",
    "Now try to write the Python code to answer the following questions in the cells below \n",
    "</div>"
   ]
  },
  {
   "cell_type": "markdown",
   "metadata": {},
   "source": [
    "#### <font color=\"red\"><b>1.</b></font> Modify the Sums1toN.py program to accept only an odd positive integer nMax from the user and print the sums of positive odd integers for *n = 1, 3, ..., nMax.*"
   ]
  },
  {
   "cell_type": "code",
   "execution_count": 6,
   "metadata": {},
   "outputs": [
    {
     "name": "stdout",
     "output_type": "stream",
     "text": [
      "  1      1\n",
      "  3      6\n"
     ]
    }
   ],
   "source": [
    "nMax=int(input(\"enter number: \"))#sets user input in variable nMax\n",
    "n=1                              #reset value\n",
    "while n <= nMax:                 #runs loop until n is higher than nMax\n",
    "    sum1n = 0                    #reset value\n",
    "    i = 1                        #reset value\n",
    "    while i <= n:                #runs loop until i is more than n\n",
    "        sum1n += i               #increases  the value of sum1n by i\n",
    "        i += 1                   #increases the value of i by 1\n",
    "    print('{0:3d} {1:6d}'.format(n, sum1n)) # prints with format method\n",
    "    n += 2                       #increases the value of n by 2\n"
   ]
  },
  {
   "cell_type": "markdown",
   "metadata": {},
   "source": [
    "#### <font color=\"red\"><b>2.</b></font> Write a program that prompts the user for a positive integer n and prints all positive multiples of 6 *ie. (6, 12, 18, etc.)* that do not exceed n."
   ]
  },
  {
   "cell_type": "code",
   "execution_count": 1,
   "metadata": {},
   "outputs": [
    {
     "name": "stdout",
     "output_type": "stream",
     "text": [
      "6\n"
     ]
    }
   ],
   "source": [
    "userInput=int(input(\"enter int: \"))#sets user input in variable userInput\n",
    "for i in range(6,userInput+1,6):   #loops range from 6 to userInput value+1 and increment it by 6\n",
    "    print(i)                       #prints output"
   ]
  },
  {
   "cell_type": "markdown",
   "metadata": {},
   "source": [
    "#### <font color=\"red\"><b>3.</b></font> Using Sums1toN.py as a prototype, write a program that prompts the user to enter a positive integer nMax and displays n and n! (n-factorial) for n from 1 to nMax.   .  "
   ]
  },
  {
   "cell_type": "code",
   "execution_count": 3,
   "metadata": {},
   "outputs": [
    {
     "name": "stdout",
     "output_type": "stream",
     "text": [
      "  1      1\n",
      "  2      2\n",
      "  3      6\n",
      "  4     24\n",
      "  5    120\n",
      "  6    720\n",
      "  7   5040\n",
      "  8  40320\n",
      "  9 362880\n",
      " 10 3628800\n",
      " 11 39916800\n",
      " 12 479001600\n",
      " 13 6227020800\n",
      " 14 87178291200\n"
     ]
    }
   ],
   "source": [
    "nMax=int(input(\"enter number: \"))#sets uer input in variable nMax\n",
    "n = 1                            #reset value\n",
    "while n <= nMax:                 #runs loop until n is greater than nMax\n",
    "    sum1n = 1                    #reset value\n",
    "    i = 1                        #reset value\n",
    "    while i <= n:                #runs loop until i is more than n\n",
    "        sum1n *= i               # multiplies i*i\n",
    "        i += 1                   # increases the value of i by 1\n",
    "    print('{0:3d} {1:6d}'.format(n, sum1n))\n",
    "    n += 1                       #increases the value of n by 1"
   ]
  },
  {
   "cell_type": "markdown",
   "metadata": {},
   "source": [
    "<div class=\"alert alert-block alert-danger\"><b>Note:</b> most of the programs for this module do not require you to use the <i>input</i> statement to load data into your code. To avoid loosing marks (for over use of the input statement) You should only use input statements where the question includes the phrases like <font color=\"red\"><i>\"prompts the user..\"</i></font>, <font color=\"red\"><i>\"from the user..\"</i></font> or <font color=\"red\"><i>\"ask the user..\"</i></font>. <b>ie. for questions 4,5 & 6 hard code the data in the program</b></div>"
   ]
  },
  {
   "cell_type": "markdown",
   "metadata": {},
   "source": [
    "#### <font color=\"red\"><b>4.</b></font> Write a program that prints n, $ s_{1}(n)=\\sum \\limits _{k=1} ^{n} k $ , $ s_{2}(n)=\\sum \\limits _{k=1} ^{n} k ^{2} $ , and  $ \\frac{3s_{2}(n)}{s_{1}(n)} $ for n = 1, 2, 3, ..., 20.  Try to guess the general formula for  $ \\sum \\limits _{k=1} ^{n} k ^{2} $ from the resulting table."
   ]
  },
  {
   "cell_type": "code",
   "execution_count": 2,
   "metadata": {},
   "outputs": [
    {
     "name": "stdout",
     "output_type": "stream",
     "text": [
      "  1      1      1      3\n",
      "  2      3      5      5\n",
      "  3      6     14      7\n",
      "  4     10     30      9\n",
      "  5     15     55     11\n",
      "  6     21     91     13\n",
      "  7     28    140     15\n",
      "  8     36    204     17\n",
      "  9     45    285     19\n",
      " 10     55    385     21\n"
     ]
    }
   ],
   "source": [
    "nMax = 10                #reset value\n",
    "n = 1                    #reset value\n",
    "while n <= nMax:         #runs loop until n is greater than nMax\n",
    "    s1 = 0               #reset value\n",
    "    s2=0                 #reset value\n",
    "    s3=0                 #reset value\n",
    "    i = 1                #reset value\n",
    "    while i <= n:        #runs loop until n is greater than nMax\n",
    "        s1 += i          #increases the value of s1 by i\n",
    "        s2 += i*i        #increases the value of s2 by i*i\n",
    "        s3= 3*s2//s1     # increases the value of s3 by 3*s2//s1\n",
    "        i += 1           #increases the value of i by 1\n",
    "    print('{0:3d} {1:6d} {2:6d} {3:6d}'.format(n, s1, s2, s3))\n",
    "    n += 1               #a counter that increases the value of n by 1"
   ]
  },
  {
   "cell_type": "markdown",
   "metadata": {},
   "source": [
    "#### <font color=\"red\"><b>5.</b></font> Write a function printSquare(n) that displays a “square” whose side has n stars.  For example, for n = 5, the output should be: "
   ]
  },
  {
   "cell_type": "markdown",
   "metadata": {},
   "source": [
    "`*****`<br>\n",
    "`*   *`<br>\n",
    "`*   *`<br>\n",
    "`*   *`<br>\n",
    "`*****`<br>"
   ]
  },
  {
   "cell_type": "markdown",
   "metadata": {},
   "source": [
    "##### Use only one while loop.  (Actually, in Python, you can write this function without any loops, on one line.  Can you figure out how?) "
   ]
  },
  {
   "cell_type": "code",
   "execution_count": 4,
   "metadata": {},
   "outputs": [
    {
     "name": "stdout",
     "output_type": "stream",
     "text": [
      "*****\n",
      "*   *\n",
      "*   *\n",
      "*   *\n",
      "*****\n"
     ]
    }
   ],
   "source": [
    "def printsquare(n):              #creating function with parameter n\n",
    "    x=0                          #initializing value\n",
    "    print('*'*n)                 #prints '*' n number of times\n",
    "    while x<n-2:                 #loops until x is more or equal to n-2\n",
    "        print('*'+' '*(n-2)+'*') #prints * with spaces of n-2 and * at the end\n",
    "        x+=1                     #a counter that increases the value of x by 1\n",
    "    print('*'*n)                 #prints '*' n number of times\n",
    "printsquare(5)                   #calls the function with the parameter 5\n"
   ]
  },
  {
   "cell_type": "markdown",
   "metadata": {},
   "source": [
    "#### <font color=\"red\"><b>6.</b></font> Write a function <i>myPow(x, n)</i> that returns $x ^{n}$, where   and n is a non-negative integer.  Do not use the ** operator or the math.pow function — use one <i>while</i> loop.  Hint:  $ x ^{0} = 1 $.  "
   ]
  },
  {
   "cell_type": "code",
   "execution_count": 2,
   "metadata": {},
   "outputs": [],
   "source": [
    "def myPow(x,n):            #making function with parameter x and n\n",
    "    num=0                  #reset value\n",
    "    result=1               # reset value\n",
    "    while n!=num:          #loops until n equals to num\n",
    "        result *= x        # multiplies x*x\n",
    "        num-=1             #subs num by 1\n",
    "    return result          #returns the output\n",
    "print(myPow(3,4))          #calls and prints the function with parameter 3 and 4"
   ]
  },
  {
   "cell_type": "markdown",
   "metadata": {},
   "source": [
    "### Downloading your workbook"
   ]
  },
  {
   "cell_type": "markdown",
   "metadata": {},
   "source": [
    "Please note even if you are Jupyter on your computer (ie. not on a network) the Jupyter notebook runs as a server, so you are not running and editing a file on your filing system. So to obtain your workbook (to use on a different computer or upload as an assignment, etc.) it must be downloaded to your file system. To do this...  "
   ]
  },
  {
   "cell_type": "markdown",
   "metadata": {},
   "source": [
    "<div class=\"alert alert-block alert-info\">Goto the <b>\"File\"</b> menu and select the <b>\"Download as\"</b> item. You can then select <b>\"notebook (ipynb)\"</b> to download.</div>"
   ]
  }
 ],
 "metadata": {
  "kernelspec": {
   "display_name": "Python 3",
   "language": "python",
   "name": "python3"
  },
  "language_info": {
   "codemirror_mode": {
    "name": "ipython",
    "version": 3
   },
   "file_extension": ".py",
   "mimetype": "text/x-python",
   "name": "python",
   "nbconvert_exporter": "python",
   "pygments_lexer": "ipython3",
   "version": "3.9.7"
  }
 },
 "nbformat": 4,
 "nbformat_minor": 2
}

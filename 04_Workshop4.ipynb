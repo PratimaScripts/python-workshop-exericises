{
 "cells": [
  {
   "cell_type": "markdown",
   "metadata": {},
   "source": [
    "## Python Workshop 4 Exercises"
   ]
  },
  {
   "cell_type": "markdown",
   "metadata": {},
   "source": [
    "<div class=\"alert alert-block alert-info\">Examine and test the example code below, then devise and write your code to answer the 5 questions that follow <b>and submit your work to the Canvas portal provided, for assesment, towards your portfolio.</b></div>"
   ]
  },
  {
   "cell_type": "markdown",
   "metadata": {},
   "source": [
    "#### Lists, vectors and maticies in Python"
   ]
  },
  {
   "cell_type": "markdown",
   "metadata": {},
   "source": [
    "There is no special structure in Python for representing a two-dimensional table.  Typically each row of a table is represented as a list, and the whole table is represented as a list of lists, its rows.  For example,\n",
    "\n",
    "              1  2  3\n",
    "              4  5  6\n",
    "\n",
    "can be defined as:\n",
    "\n"
   ]
  },
  {
   "cell_type": "markdown",
   "metadata": {},
   "source": [
    "<code> >>> m = [[1, 2, 3], [4, 5, 6]]</code>\n",
    "\n",
    "Actually, Python lets you split lists over multiple lines, so you can write\n",
    "\n",
    "<code> >>> m =[[1, 2, 3],\n",
    "        [4, 5, 6]]</code>"
   ]
  },
  {
   "cell_type": "markdown",
   "metadata": {},
   "source": [
    "m[0] is the first row of the table, m[1] is the second row, and so on.  m[r] refers to the row with the index r (the (r+1) th row of the table — recall that in Python indices start from 0).  The elements in the row with the index r are m[r][0], m[r][1],  m[r][2], and so on.  In the above example, the value of the element m[0][2] is 3."
   ]
  },
  {
   "cell_type": "markdown",
   "metadata": {},
   "source": [
    "<div class=\"alert alert-block alert-danger\">\n",
    "Now try to write the Python code to answer the following questions in the cells below. <i>You may use Python built-in or library functions that might help but <b>not</b> third-party libraries such as Numpy.</i> </div>"
   ]
  },
  {
   "cell_type": "markdown",
   "metadata": {},
   "source": [
    "#### <font color=\"red\"><b>1.</b></font> Write a Python function that returns the sum of all the elements of a given vector.  Call the function <i>vectorSum</i>, it should take one argument, the vector v and return a single value. ie [1,2,3,4,5,6] would return 21. <font color=\"blue\">Test your solution using a vector made-up of your student number.</font> "
   ]
  },
  {
   "cell_type": "code",
   "execution_count": 18,
   "metadata": {},
   "outputs": [
    {
     "name": "stdout",
     "output_type": "stream",
     "text": [
      "Sum of the given vector array is 21\n"
     ]
    }
   ],
   "source": [
    "def vectorSum(arr):\n",
    "     \n",
    "    # return sum using sum\n",
    "    # inbuilt sum() function\n",
    "    return(sum(arr))\n",
    " \n",
    "# driver function\n",
    "arr=[]\n",
    "# input values to list\n",
    "arr = [1,2,3,4,5,6]\n",
    " \n",
    "# calculating length of array\n",
    "n = len(arr)\n",
    " \n",
    "ans = vectorSum(arr)\n",
    " \n",
    "# display sum\n",
    "print ('Sum of the given vector array is',ans)\n",
    "\n",
    "\n",
    "#Second Method of calculation without using built-in sum function \n",
    "# def vectorSum(vectorV):\n",
    "#     sum = 0\n",
    "#     for i in vectorV:\n",
    "#         sum = sum + i #applying basic list addition by looping list elements\n",
    "#     return sum\n",
    "\n",
    "# #print(vectorSum([1,2,3,4,5,6])) #gave 21\n",
    "# print(vectorSum([2,0,5,9,6,1,5])) #using my student number\n",
    "    "
   ]
  },
  {
   "cell_type": "markdown",
   "metadata": {},
   "source": [
    "#### <font color=\"red\"><b>2.</b></font> Write a Python function that returns the sum of all the elements of a given matrix.  Call the function <i>matrixSum</i>, it should take one argument, the matrix m and return a single value. ie [[1,2,3],[4,5,6]] would return 21.  Write your own solution do not use the Numpy library."
   ]
  },
  {
   "cell_type": "code",
   "execution_count": 19,
   "metadata": {},
   "outputs": [
    {
     "data": {
      "text/plain": [
       "21"
      ]
     },
     "execution_count": 19,
     "metadata": {},
     "output_type": "execute_result"
    }
   ],
   "source": [
    "def matrixSum(num): # function definition \n",
    "    sum = 0 # initialize sum \n",
    "    for i in range(len(num)): # loop for rows\n",
    "        for j in range(len(num[i])): # loop for columns\n",
    "            sum += num[i][j] # add elements of each row\n",
    "    return sum # return sum\n",
    "matrixSum([[1,2,3],[4,5,6]]) # function call"
   ]
  },
  {
   "cell_type": "markdown",
   "metadata": {},
   "source": [
    "#### <font color=\"red\"><b>3.</b></font> Write a Python function that returns the position of the element in a vector of numbers nearest the mean value for that vector.  ie for the vector [2, 7, 9, 5, 1, 7, 3, 1] would return 3 <i>(as the value 5 is closest to the mean)</i>.  Call the function <i>vectorMeanPos</i>, it should take one argument, the vector v and return a single integer value.  <font color=\"blue\">Again test your solution using a vector made-up of your student number.</font> "
   ]
  },
  {
   "cell_type": "code",
   "execution_count": 20,
   "metadata": {},
   "outputs": [
    {
     "data": {
      "text/plain": [
       "2"
      ]
     },
     "execution_count": 20,
     "metadata": {},
     "output_type": "execute_result"
    }
   ],
   "source": [
    "def vectorMeanPos(vectorV): # defining a function vectorMeanPos\n",
    "    result = 0 # initializing result\n",
    "    #finding out the mean value of the given vector list\n",
    "    for i in vectorV: # iterating through the vector list\n",
    "        result = result + i # adding each element of the vector list\n",
    "    mean = result/len(vectorV)  # finding the mean value\n",
    "    \n",
    "    #finding out the number which was closest to the mean value of vector list\n",
    "    #and at last returning the index value of the closest mean value\n",
    "    for vIndex,i in enumerate(vectorV): #using enumerate function we loop over an list index and keep track of how many iterations have occurred.\n",
    "        vectorV[vIndex] = abs(mean - i) #abs function helped to give the absolute value of the mean index\n",
    "    return vectorV.index(min(vectorV)) #by using min function we get the minimum value from the iterations for index \n",
    "\n",
    "#vectorMeanPos([2, 7, 9, 5, 1, 7, 3, 1]) #gave output 3\n",
    "vectorMeanPos([2, 0, 5, 9, 6, 1, 5]) #my student number    \n",
    "    "
   ]
  },
  {
   "cell_type": "markdown",
   "metadata": {},
   "source": [
    "#### <font color=\"red\"><b>4.</b></font> An n by n matrix defines a linear transformation (function) on n-dimensional vectors.<br>  If $ A = \\begin{pmatrix} a_{11} & a_{12} & ... & a_{1n} \\\\ a_{21} & a_{22} & ... & a_{2n} \\\\ ... \\\\ a_{n1} & a_{n2} & ... & a_{nn} \\end{pmatrix} $ and $ \\bar{x} = (x_{1},x_{2}...x_{n}) $, then $ A.\\bar{x} $ is a new vector $ \\bar{y} = (y_{1},y_{2}...y_{n}) $, such that  $ y_{i} = (a_{i1}x_{1}+a_{i2}x_{2}+...+a_{in}x_{n}) $.  In other words, $ y_{i} $ is the dot product of the <i>i-th</i> row of the matrix and $ \\bar{x} $.  Write and test a Python function, called <i>linearTrans</i>, that takes an <i>n</i> by <i>n</i> matrix <i>A</i> and an n-dimensional vector $ \\bar{x} $  and returns the vector $ A.\\bar{x} $."
   ]
  },
  {
   "cell_type": "markdown",
   "metadata": {},
   "source": [
    "\\begin{bmatrix}\n",
    "1 & 2 & 3\\\\\n",
    "4 & 5 & 6\\\\\n",
    "7 & 8 & 9\n",
    "\\end{bmatrix}"
   ]
  },
  {
   "cell_type": "code",
   "execution_count": 21,
   "metadata": {},
   "outputs": [
    {
     "data": {
      "text/plain": [
       "[5, 11]"
      ]
     },
     "execution_count": 21,
     "metadata": {},
     "output_type": "execute_result"
    }
   ],
   "source": [
    "vector = [1, 2] # linearTrans([[1,2],[3,4]], [1,2]) #gave output [5, 11]\n",
    "matrix = [[1, 2], \n",
    "          [3, 4]]\n",
    "\n",
    "#using list comprehension method\n",
    "#making function to multiply inner row products\n",
    "def innerDot(vectA, vectB):\n",
    "     return sum([x*y for x,y in zip(vectA, vectB)]) #looping to get value of row multiplied by row\n",
    "                                #by using zip function we get the inner dot product of matrix and vector rows\n",
    "    \n",
    "def linearTrans(mat, vect):    \n",
    "    return [innerDot(row,vect) for row in mat] #after innerdot we do the matrix to vector linear transformation\n",
    "linearTrans(matrix, vector) #calling function linearTrans"
   ]
  },
  {
   "cell_type": "markdown",
   "metadata": {},
   "source": [
    "#### <font color=\"red\"><b>5.</b></font> Suppose we have two <i>n</i> by <i>n</i> matrices:<br> $ A = \\begin{pmatrix} a_{11} & a_{12} & ... & a_{1n} \\\\ a_{21} & a_{22} & ... & a_{2n} \\\\ ... \\\\ a_{n1} & a_{n2} & ... & a_{nn} \\end{pmatrix} $   and     $ B = \\begin{pmatrix} b_{11} & b_{12} & ... & b_{1n} \\\\ b_{21} & b_{22} & ... & b_{2n} \\\\ ... \\\\ b_{n1} & b_{n2} & ... & b_{nn} \\end{pmatrix} $<br> The matrix <i>C</i> in which $ c_{ij} = (a_{i1}b_{1j}+a_{i2}x_{2j}+...+a_{in}x_{nj}) $ is called the product of <i>A</i> and <i>B</i> and denoted as <i>A.B</i> or simply $AB . c_{ij}$ is the dot product of the i th row in A and the j-th column in B.  Write and test a Python function, called <i>matrixProd</i>, that takes two square matrices of the same size and returns their product.  <i>Hint: don’t forget to create the resulting matrix before you put values into it.</i>\n"
   ]
  },
  {
   "cell_type": "code",
   "execution_count": 22,
   "metadata": {},
   "outputs": [
    {
     "data": {
      "text/plain": [
       "[[90, 114, 138], [54, 69, 84], [18, 24, 30]]"
      ]
     },
     "execution_count": 22,
     "metadata": {},
     "output_type": "execute_result"
    }
   ],
   "source": [
    "def matrixProd(a,b): # defining a matrixProd function with two parameters\n",
    "    #multiplication of 2x2 matrix\n",
    "    # res = [[0,0],\n",
    "    #        [0,0]] \n",
    "\n",
    "    #multiplication of 3*3 matrix\n",
    "    res = [[0,0,0],\n",
    "              [0,0,0],\n",
    "                [0,0,0]]\n",
    "                \n",
    "    for i in range(len(a)): #iterating through rows of a\n",
    "        for j in range(len(b[0])): #iterating through columns of b \n",
    "            for k in range(len(b)): #iterating through rows of b\n",
    "                res[i][j]+=a[i][k]*b[k][j] #multiplication of rows of a to the columns and rows of b\n",
    "    return res\n",
    "# matrixProd([[1,2],\n",
    "#             [3,4]],[[1,2],\n",
    "#                     [3,4]])\n",
    "\n",
    "matrixProd([[9,8,7],[6,5,4],[3,2,1]],[[1,2,3],[4,5,6],[7,8,9]]) # matrixProd function call"
   ]
  },
  {
   "cell_type": "markdown",
   "metadata": {},
   "source": [
    "### Downloading your workbook"
   ]
  },
  {
   "cell_type": "markdown",
   "metadata": {},
   "source": [
    "Please note even if you are Jupyter on your computer (ie. not on a network) the Jupyter notebook runs as a server, so you are editing and running a file that is not easily accessed on your filing system. So to obtain your workbook (to use on a different computer or upload as an assignment, etc.) it must be downloaded to your file system. To do this..."
   ]
  },
  {
   "cell_type": "markdown",
   "metadata": {},
   "source": [
    "<div class=\"alert alert-block alert-info\">Goto the <b>\"File\"</b> menu and select the <b>\"Download as\"</b> item. You can then select <b>\"notebook (ipynb)\"</b> to download.</div>"
   ]
  }
 ],
 "metadata": {
  "kernelspec": {
   "display_name": "Python 3",
   "language": "python",
   "name": "python3"
  },
  "language_info": {
   "codemirror_mode": {
    "name": "ipython",
    "version": 3
   },
   "file_extension": ".py",
   "mimetype": "text/x-python",
   "name": "python",
   "nbconvert_exporter": "python",
   "pygments_lexer": "ipython3",
   "version": "3.9.7"
  }
 },
 "nbformat": 4,
 "nbformat_minor": 2
}

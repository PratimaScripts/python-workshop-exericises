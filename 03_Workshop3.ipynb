{
 "cells": [
  {
   "cell_type": "markdown",
   "metadata": {},
   "source": [
    "## Python Workshop 3 Exercises"
   ]
  },
  {
   "cell_type": "markdown",
   "metadata": {},
   "source": [
    "<div class=\"alert alert-block alert-info\">Examine and test the example code below, then design and write your code to answer the 7 questions that follow.</div>"
   ]
  },
  {
   "cell_type": "markdown",
   "metadata": {},
   "source": [
    "#### Lists and indexing in Python"
   ]
  },
  {
   "cell_type": "markdown",
   "metadata": {},
   "source": [
    "Consider a list of numbers:  nums = [90, 80, 70, 60, 50, 40, 30, 20, 10]\n",
    "    \n",
    "|90|80|70|60|50|40|30|20|10|\n",
    "| :-: | :-: | :-: | :-: | :-: | :-: | :-: | :-: | :-: |\n",
    "|<font color=\"blue\">0|<font color=\"blue\">1|<font color=\"blue\">2|<font color=\"blue\">3|<font color=\"blue\">4|<font color=\"blue\">5|<font color=\"blue\">6|<font color=\"blue\">7|<font color=\"blue\">8|\n",
    "|<font color=\"red\">-9|<font color=\"red\">-8|<font color=\"red\">-7|<font color=\"red\">-6|<font color=\"red\">-5|<font color=\"red\">-4|<font color=\"red\">-3|<font color=\"red\">-2|<font color=\"red\">-1|\n",
    "\n",
    "Each character in the list has a notional position called <font color=\"blue\">the index</font>,  \n",
    "to access one of the elements, the name of the list with the index (in square brackets) must be provided E.g:<br>\n",
    "<code>print(nums[<font color=\"blue\">2</font>])    # <font color=\"blue\">index from the front => 70</font></code><br>\n",
    "In Python lists may also be <font color=\"red\">indexed from the back</font> by using a negative number for the index so<br>\n",
    "<code>print(nums[<font color=\"red\">-2</font>])   # <font color=\"red\">index from the back => 20</font></code><br>   \n",
    "\n",
    "Of course where you use a number in a program, you can replace with a variable to produce interesting results  "
   ]
  },
  {
   "cell_type": "markdown",
   "metadata": {},
   "source": [
    "#### Example 1"
   ]
  },
  {
   "cell_type": "markdown",
   "metadata": {},
   "source": [
    "Write a Python function that returns the sum of two given vectors (represented as lists of the same length)."
   ]
  },
  {
   "cell_type": "markdown",
   "metadata": {},
   "source": [
    "#### Solution"
   ]
  },
  {
   "cell_type": "markdown",
   "metadata": {},
   "source": [
    "<code>def sumVectors(x, y):\n",
    "    vect = len(x)*[0]  # create a list of the same length as x, filled with 0s\n",
    "    i = 0\n",
    "    while i < len(x):\n",
    "        vect[i] = x[i] + y[i]\n",
    "        i += 1\n",
    "    return vect</code>"
   ]
  },
  {
   "cell_type": "markdown",
   "metadata": {},
   "source": [
    "Note that we have to create a vector of the required length before we can store the resulting values in it.  Try a call such as sumVectors([1,2,3],[6,5,4]) to test the working of the function."
   ]
  },
  {
   "cell_type": "markdown",
   "metadata": {},
   "source": [
    "#### Example 2"
   ]
  },
  {
   "cell_type": "markdown",
   "metadata": {},
   "source": [
    "Write a Python function that creates and returns a table with a given numbers of rows and columns, filled with None values."
   ]
  },
  {
   "cell_type": "markdown",
   "metadata": {},
   "source": [
    "#### Solution"
   ]
  },
  {
   "cell_type": "markdown",
   "metadata": {},
   "source": [
    "<code>def buildTable(nRows, nCols):\n",
    "    table = []\n",
    "    for r in range(nRows):\n",
    "        table.append(nCols*[None])\n",
    "    return table</code>"
   ]
  },
  {
   "cell_type": "markdown",
   "metadata": {},
   "source": [
    "We start with an empty list of rows table and append a new row to it nRows times.  nCols*[None] creates one row: a list of nCols elements, all set to None. <i>You may want to experiment with the example functions in the space below:</i> "
   ]
  },
  {
   "cell_type": "markdown",
   "metadata": {},
   "source": [
    "<div class=\"alert alert-block alert-danger\">\n",
    "Now try to write the Python code to answer the following questions in the cells below \n",
    "</div>"
   ]
  },
  {
   "cell_type": "markdown",
   "metadata": {},
   "source": [
    "#### <font color=\"red\"><b>1.</b></font>Write and test a function that returns the index of the largest element in the list (or, if several elements have the largest value, the index of the first one of them).  Write your own algorithmn do not use built-in functions max or index or any library functions."
   ]
  },
  {
   "cell_type": "code",
   "execution_count": 1,
   "metadata": {
    "scrolled": true
   },
   "outputs": [
    {
     "data": {
      "text/plain": [
       "2"
      ]
     },
     "execution_count": 1,
     "metadata": {},
     "output_type": "execute_result"
    }
   ],
   "source": [
    "def nmax(): # defining nmax() function\n",
    "    lst = [2, 3, 9, 7, 3, 5] # defining list and assigning values\n",
    "    maxNum = lst[0] # assigning first value of list to maxNum\n",
    "    index = 0 # assigning index value to 0\n",
    "    for i in range(len(lst)): # for loop to iterate through list\n",
    "        if lst[i] > maxNum: # if statement to check if value is greater than maxNum\n",
    "            maxNum = lst[i] # assigning value to maxNum\n",
    "            index = i # assigning index value to i\n",
    "    return index # returning index value\n",
    "nmax() # calling nmax() function"
   ]
  },
  {
   "cell_type": "markdown",
   "metadata": {},
   "source": [
    "#### <font color=\"red\"><b>2.</b></font> Write a python script (ie. does not need to be a function) that swaps the values of three variables x, y, and z, so by the end x gets the value of y, y has the value of z, and z gets the value that was in x.  <i>Note: the swapping can be done on a single line of code if you use good pythonic design.</i>"
   ]
  },
  {
   "cell_type": "code",
   "execution_count": 2,
   "metadata": {
    "scrolled": true
   },
   "outputs": [
    {
     "name": "stdout",
     "output_type": "stream",
     "text": [
      "Before x=1, y=2, z=3\n",
      "After x=3, y=1, z=2\n"
     ]
    }
   ],
   "source": [
    "x, y, z  = 1, 2, 3 # defining x, y, z variables and assigning values to them\n",
    "print(\"Before x={}, y={}, z={}\".format(x, y, z)) # printing before x, y, z values\n",
    "x, y, z = y, z, x # swapping x, y, z values with y, z, x values\n",
    "print(\"After x={}, y={}, z={}\".format(y, z, x)) # printing after x, y, z values"
   ]
  },
  {
   "cell_type": "markdown",
   "metadata": {},
   "source": [
    "#### <font color=\"red\"><b>3.</b></font> Pretend that list’s reverse method does not exist and write your own function reverseList(lst) that reverses the list in place and returns a None.  <i>Hints: proceed from both ends, but not too far..., the swapping (from Q2) should be useful and no need for a return statement.</i>"
   ]
  },
  {
   "cell_type": "code",
   "execution_count": 4,
   "metadata": {
    "scrolled": true
   },
   "outputs": [
    {
     "name": "stdout",
     "output_type": "stream",
     "text": [
      "[6, 5, 4, 3, 2, 1]\n"
     ]
    }
   ],
   "source": [
    "def reverselist(lst): # defining reverselist() function and passing lst to it\n",
    "    num = [1,2,3,4,5,6] # defining list and assigning values\n",
    "    for i in range(len(num)//2): # for loop to iterate through list and divide by 2\n",
    "        num[i], num[-1-i] = num[-1-i], num[i] # swapping values\n",
    "    print(num) # printing num\n",
    "reverselist([]) # calling reverselist() function"
   ]
  },
  {
   "cell_type": "markdown",
   "metadata": {},
   "source": [
    "#### <font color=\"red\"><b>4.</b></font> Write and test a function that takes a list with four or more elements and returns the index of the element that makes the greatest sum with its left and right neighbors. <i>Hint: a good solution here might be similar to your answer to Q1</i>."
   ]
  },
  {
   "cell_type": "code",
   "execution_count": 1,
   "metadata": {
    "scrolled": true
   },
   "outputs": [
    {
     "name": "stdout",
     "output_type": "stream",
     "text": [
      "2\n"
     ]
    }
   ],
   "source": [
    "lst = [1,8,9,3] # defining list and assigning values\n",
    "maxnum = lst[0] # assigning first value of list to maxnum\n",
    "index = 0 # assigning index value to 0\n",
    "for i in range(1, len(lst)-1): # for loop to iterate through list, subtract 1 from length of list\n",
    "    if lst[i-1] + lst[i] + lst[i+1] > maxnum: # if statement to check if sum of values is greater than maxnum\n",
    "        maxnum = lst[i-1] + lst[i] + lst[i+1] # assigning value to maxnum \n",
    "        index = i # assigning index value to i\n",
    "print(index) # printing index value"
   ]
  },
  {
   "cell_type": "markdown",
   "metadata": {},
   "source": [
    "#### <font color=\"red\"><b>5.</b></font>  Write a function called <i>intersection</i> that takes 2 lists of integers and returns a third list values that occur in both lists ie. <i>intersection([2, 3, 4], [1, 2, 5])</i> should return [2]. Write your solution in pure Python to show the logic in your solution, do not use any library functions.¶"
   ]
  },
  {
   "cell_type": "code",
   "execution_count": 6,
   "metadata": {
    "scrolled": true
   },
   "outputs": [
    {
     "name": "stdout",
     "output_type": "stream",
     "text": [
      "[2]\n"
     ]
    }
   ],
   "source": [
    "num1 = [2,3,4] # defining list num1 and assigning values\n",
    "num2 = [1,2,5] # defining list num2 and assigning values\n",
    "num3 = [] # defining list num3, empty list\n",
    "\n",
    "for i in num1: # for loop to iterate through num1\n",
    "    if i in num2: # if statement to check if i is in num2\n",
    "        num3.append(i) # appending i to num3\n",
    "print(num3) # printing num3"
   ]
  },
  {
   "cell_type": "markdown",
   "metadata": {},
   "source": [
    "#### <font color=\"red\"><b>6.</b></font> Let  $ \\bar{x} = (x_{1},x_{2}...x_{n}) $  and $ \\bar{y} = (y_{1},y_{2}...y_{n}) $ be two n dimensional vectors.  Their <i>dot product</i>, denoted  $ \\bar{x}.\\bar{y} $  , is defined as  $ \\bar{x}.\\bar{y} = x_{1}y_{1}+x_{2}y_{2}+x_{3}y_{3}+...+x_{n}y_{n} $  .  Write and test a Python function that returns the dot product of two given vectors (represented as lists of the same length). "
   ]
  },
  {
   "cell_type": "code",
   "execution_count": 7,
   "metadata": {
    "scrolled": true
   },
   "outputs": [
    {
     "name": "stdout",
     "output_type": "stream",
     "text": [
      "112\n"
     ]
    }
   ],
   "source": [
    "x = [ 1, 2, 3, 4, 5, 6] # defining list x and assigning values\n",
    "y = [ 2, 3, 4, 5, 6, 7] # defining list y and assigning values\n",
    "product=0 # defining product variable and assigning value to 0\n",
    "for i in range(len(x)): # for loop to iterate through x\n",
    "    product += x[i]*y[i] # assigning value to product, multiplying x[i] and y[i] and adding to product\n",
    "print(product) # printing product value"
   ]
  },
  {
   "cell_type": "markdown",
   "metadata": {},
   "source": [
    "#### <font color=\"red\"><b>7.</b></font> Write and test a Python function that returns the sum of the elements on the main diagonal (upper left to lower right) of a square matrix (represented as a list of lists <i>eg. [[9, 8, 7], [6, 5, 4], [3, 2, 1]]</i>).  In linear algebra, this value is called the trace of the matrix. Note: your solution should work for any sized square matrix passed to it."
   ]
  },
  {
   "cell_type": "code",
   "execution_count": 8,
   "metadata": {
    "scrolled": true
   },
   "outputs": [
    {
     "name": "stdout",
     "output_type": "stream",
     "text": [
      "15\n"
     ]
    }
   ],
   "source": [
    "def diagonal(m, n): # defining diagonal() function and passing m and n to it\n",
    "    result = 0 # defining result variable and assigning value to 0\n",
    "    for i in range(0, n): # for loop to iterate through 0 to n\n",
    "        result += matrix[i][i] # assigning value to result, adding matrix[i][i] to result\n",
    "    print(result) # printing result value\n",
    "matrix = [[9,8,7],[6,5,4],[3,2,1]] # defining matrix and assigning values\n",
    "diagonal(matrix, 3) # calling diagonal() function"
   ]
  },
  {
   "cell_type": "markdown",
   "metadata": {},
   "source": [
    "### Downloading your workbook"
   ]
  },
  {
   "cell_type": "markdown",
   "metadata": {},
   "source": [
    "Please note even if you are Jupyter on your computer (ie. not on a network) the Jupyter notebook runs as a server, so you are editing and running a file that is not easily accessed on your filing system. So to obtain your workbook (to use on a different computer or upload as an assignment, etc.) it must be downloaded to your file system. To do this..."
   ]
  },
  {
   "cell_type": "markdown",
   "metadata": {},
   "source": [
    "<div class=\"alert alert-block alert-info\">Goto the <b>\"File\"</b> menu and select the <b>\"Download as\"</b> item. You can then select <b>\"notebook (ipynb)\"</b> to download.</div>"
   ]
  }
 ],
 "metadata": {
  "kernelspec": {
   "display_name": "Python 3",
   "language": "python",
   "name": "python3"
  },
  "language_info": {
   "codemirror_mode": {
    "name": "ipython",
    "version": 3
   },
   "file_extension": ".py",
   "mimetype": "text/x-python",
   "name": "python",
   "nbconvert_exporter": "python",
   "pygments_lexer": "ipython3",
   "version": "3.9.7"
  }
 },
 "nbformat": 4,
 "nbformat_minor": 2
}
